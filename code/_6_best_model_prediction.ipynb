{
 "cells": [
  {
   "cell_type": "markdown",
   "metadata": {},
   "source": [
    "Filename: _6_best_model_prediction.ipynb <br>\n",
    "Title: XG Boost - Testing the best model with user input <br>\n",
    "Author: Raghava | GitHub: @raghavtwenty <br>\n",
    "Date Created: June 10, 2023 | Last Updated: May 13, 2024 <br>\n",
    "Language: Python | Version: 3.10.14, 64-bit <br>"
   ]
  },
  {
   "cell_type": "markdown",
   "metadata": {},
   "source": [
    "XG Boost Chosen over other models. <br>\n",
    "It has the highest accuracy & performance metrics. <br>\n",
    "XG Boost is more robust to over fitting, <br>\n",
    "Highly scalable and suitable for large datasets <br>\n",
    "compared to Random forest. <br>\n"
   ]
  },
  {
   "cell_type": "markdown",
   "metadata": {},
   "source": [
    "Importing required libraries\n"
   ]
  },
  {
   "cell_type": "code",
   "execution_count": 2,
   "metadata": {},
   "outputs": [],
   "source": [
    "import xgboost as xgb\n",
    "import numpy as np\n",
    "from joblib import load\n",
    "from _2_scale_transform import transform_new_input"
   ]
  },
  {
   "cell_type": "markdown",
   "metadata": {},
   "source": [
    "Load the XGBoost model\n"
   ]
  },
  {
   "cell_type": "code",
   "execution_count": 3,
   "metadata": {},
   "outputs": [],
   "source": [
    "model = xgb.Booster()\n",
    "model.load_model(\"../models/m3_xg_boost.model\")"
   ]
  },
  {
   "cell_type": "markdown",
   "metadata": {},
   "source": [
    "User input prediction\n"
   ]
  },
  {
   "cell_type": "code",
   "execution_count": 4,
   "metadata": {},
   "outputs": [],
   "source": [
    "def user_input_predict(user_input):\n",
    "\n",
    "    user_input_result = model.predict(user_input)\n",
    "    user_input_result = np.argmax(user_input_result)\n",
    "\n",
    "    result_msg = \"\"\n",
    "    result_msg_info = \"\"\n",
    "\n",
    "    if user_input_result == 0:\n",
    "        result_msg = \"NORMAL, No possibility of attack.\"\n",
    "        result_msg_info = \"You are safe!\"\n",
    "\n",
    "    elif user_input_result == 1:\n",
    "        result_msg = \"Higher Possibility of BLACKHOLE attack.\"\n",
    "        result_msg_info = \"Information : BLACKHOLE attacks occur when a router deletes all messages it is supposed to forward.\"\n",
    "\n",
    "    elif user_input_result == 2:\n",
    "        result_msg = \"Higher Possibility of TCP-SYN attack.\"\n",
    "        result_msg_info = \"Information : A SYN flood (half-open attack) is a type of denial-of-service (DDoS) attack which aims to make a server unavailable to legitimate traffic by consuming all available server resources. By repeatedly sending initial connection request (SYN) packets, the attacker is able to overwhelm all available ports on a targeted server machine, causing the targeted device to respond to legitimate traffic sluggishly or not at all\"\n",
    "\n",
    "    elif user_input_result == 3:\n",
    "        result_msg = \"Higher Possibility of PORTSCAN attack.\"\n",
    "        result_msg_info = \"Information : A port scan is an attack that sends client requests to a range of server port addresses on a host, with the goal of finding an active port and exploiting a known vulnerability of that service. The results will uncover network or server status.\"\n",
    "\n",
    "    elif user_input_result == 4:\n",
    "        result_msg = \"Higher Possibility of DIVERSION attack.\"\n",
    "        result_msg_info = \"Information : Diversion/Social engineering is an attack vector that relies heavily on human interaction and often involves manipulating people into breaking normal security procedures and best practices to gain unauthorized access to systems, networks or physical locations or for financial gain. Spoofing, Phishing falls into this category.\"\n",
    "    else:\n",
    "        result_msg = \"Try Again\"\n",
    "        result_msg_info = \"Choose different values.\"\n",
    "\n",
    "    return result_msg, result_msg_info"
   ]
  },
  {
   "cell_type": "markdown",
   "metadata": {},
   "source": [
    "Test user input\n"
   ]
  },
  {
   "cell_type": "code",
   "execution_count": 20,
   "metadata": {},
   "outputs": [],
   "source": [
    "user_input = [[2, 1733, 37865130, 38063670, 3187, 2152, 0, 556, 5, 3, 0, 4, 14864]]"
   ]
  },
  {
   "cell_type": "markdown",
   "metadata": {},
   "source": [
    "Preprocessing input"
   ]
  },
  {
   "cell_type": "code",
   "execution_count": 21,
   "metadata": {},
   "outputs": [],
   "source": [
    "user_input = np.array(user_input)\n",
    "user_input = transform_new_input(user_input)\n",
    "user_input = xgb.DMatrix(user_input)"
   ]
  },
  {
   "cell_type": "markdown",
   "metadata": {},
   "source": [
    "Prediction"
   ]
  },
  {
   "cell_type": "code",
   "execution_count": 22,
   "metadata": {},
   "outputs": [
    {
     "name": "stdout",
     "output_type": "stream",
     "text": [
      "Higher Possibility of DIVERSION attack.\n",
      "Information : Diversion/Social engineering is an attack vector that relies heavily on human interaction and often involves manipulating people into breaking normal security procedures and best practices to gain unauthorized access to systems, networks or physical locations or for financial gain. Spoofing, Phishing falls into this category.\n"
     ]
    }
   ],
   "source": [
    "res_msg, res_info = user_input_predict(user_input)\n",
    "print(res_msg)\n",
    "print(res_info)"
   ]
  }
 ],
 "metadata": {
  "kernelspec": {
   "display_name": "mlenv",
   "language": "python",
   "name": "python3"
  },
  "language_info": {
   "codemirror_mode": {
    "name": "ipython",
    "version": 3
   },
   "file_extension": ".py",
   "mimetype": "text/x-python",
   "name": "python",
   "nbconvert_exporter": "python",
   "pygments_lexer": "ipython3",
   "version": "3.10.14"
  }
 },
 "nbformat": 4,
 "nbformat_minor": 2
}
