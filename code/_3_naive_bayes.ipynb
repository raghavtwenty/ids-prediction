{
 "cells": [
  {
   "cell_type": "markdown",
   "metadata": {},
   "source": [
    "Filename: _3_naive_bayes.ipynb <br>\n",
    "Title: Naive Bayes model building <br>\n",
    "Author: Raghava | GitHub: @raghavtwenty <br>\n",
    "Date Created: June 10, 2023 | Last Updated: May 13, 2024 <br>\n",
    "Language: Python | Version: 3.10.14, 64-bit <br>"
   ]
  },
  {
   "cell_type": "markdown",
   "metadata": {},
   "source": [
    "Importing Required Libraries\n"
   ]
  },
  {
   "cell_type": "code",
   "execution_count": 13,
   "metadata": {},
   "outputs": [],
   "source": [
    "import pandas as pd\n",
    "from sklearn.model_selection import train_test_split\n",
    "from sklearn.naive_bayes import GaussianNB\n",
    "from sklearn.metrics import accuracy_score, classification_report\n",
    "from _1_confus_mat_display import display_confus_matrix\n",
    "from _2_scale_transform import transform_new_input"
   ]
  },
  {
   "cell_type": "markdown",
   "metadata": {},
   "source": [
    "Importing Preprocessed Dataset\n"
   ]
  },
  {
   "cell_type": "code",
   "execution_count": 14,
   "metadata": {},
   "outputs": [],
   "source": [
    "data_frame = pd.read_csv(\"../datasets/cleaned_dataset.csv\")"
   ]
  },
  {
   "cell_type": "markdown",
   "metadata": {},
   "source": [
    "Train Test split\n"
   ]
  },
  {
   "cell_type": "code",
   "execution_count": 15,
   "metadata": {},
   "outputs": [],
   "source": [
    "X = data_frame.drop(columns=[\"Label\"])\n",
    "y = data_frame[\"Label\"]\n",
    "\n",
    "X_train, X_test, y_train, y_test = train_test_split(\n",
    "    X,\n",
    "    y,\n",
    "    test_size=0.2,\n",
    "    random_state=42,\n",
    ")"
   ]
  },
  {
   "cell_type": "markdown",
   "metadata": {},
   "source": [
    "Naive Bayes classifier\n"
   ]
  },
  {
   "cell_type": "code",
   "execution_count": 16,
   "metadata": {},
   "outputs": [],
   "source": [
    "nb_classifier = GaussianNB()\n",
    "nb_classifier.fit(X_train, y_train)\n",
    "\n",
    "# Predicting on the test set\n",
    "y_pred_nb = nb_classifier.predict(X_test)"
   ]
  },
  {
   "cell_type": "code",
   "execution_count": 17,
   "metadata": {},
   "outputs": [
    {
     "data": {
      "text/html": [
       "<div>\n",
       "<style scoped>\n",
       "    .dataframe tbody tr th:only-of-type {\n",
       "        vertical-align: middle;\n",
       "    }\n",
       "\n",
       "    .dataframe tbody tr th {\n",
       "        vertical-align: top;\n",
       "    }\n",
       "\n",
       "    .dataframe thead th {\n",
       "        text-align: right;\n",
       "    }\n",
       "</style>\n",
       "<table border=\"1\" class=\"dataframe\">\n",
       "  <thead>\n",
       "    <tr style=\"text-align: right;\">\n",
       "      <th></th>\n",
       "      <th>Port Number</th>\n",
       "      <th>Received Packets</th>\n",
       "      <th>Received Bytes</th>\n",
       "      <th>Sent Bytes</th>\n",
       "      <th>Sent Packets</th>\n",
       "      <th>Port alive Duration (S)</th>\n",
       "      <th>Delta Received Bytes</th>\n",
       "      <th>Delta Sent Bytes</th>\n",
       "      <th>Delta Port alive Duration (S)</th>\n",
       "      <th>Connection Point</th>\n",
       "      <th>Total Load/Rate</th>\n",
       "      <th>Active Flow Entries</th>\n",
       "      <th>Packets Matched</th>\n",
       "    </tr>\n",
       "  </thead>\n",
       "  <tbody>\n",
       "    <tr>\n",
       "      <th>2390</th>\n",
       "      <td>0.333333</td>\n",
       "      <td>0.004799</td>\n",
       "      <td>0.162585</td>\n",
       "      <td>0.106062</td>\n",
       "      <td>0.005434</td>\n",
       "      <td>0.341841</td>\n",
       "      <td>0.000000</td>\n",
       "      <td>0.000045</td>\n",
       "      <td>1.0</td>\n",
       "      <td>0.25</td>\n",
       "      <td>0.265172</td>\n",
       "      <td>0.004967</td>\n",
       "      <td>0.009762</td>\n",
       "    </tr>\n",
       "    <tr>\n",
       "      <th>196</th>\n",
       "      <td>1.000000</td>\n",
       "      <td>0.992862</td>\n",
       "      <td>0.054801</td>\n",
       "      <td>0.450012</td>\n",
       "      <td>0.378980</td>\n",
       "      <td>0.900638</td>\n",
       "      <td>0.000088</td>\n",
       "      <td>0.000045</td>\n",
       "      <td>1.0</td>\n",
       "      <td>0.75</td>\n",
       "      <td>0.265172</td>\n",
       "      <td>0.000000</td>\n",
       "      <td>0.660033</td>\n",
       "    </tr>\n",
       "    <tr>\n",
       "      <th>2307</th>\n",
       "      <td>0.666667</td>\n",
       "      <td>0.007368</td>\n",
       "      <td>0.023744</td>\n",
       "      <td>0.026935</td>\n",
       "      <td>0.006087</td>\n",
       "      <td>0.050137</td>\n",
       "      <td>0.000919</td>\n",
       "      <td>0.000876</td>\n",
       "      <td>0.0</td>\n",
       "      <td>0.50</td>\n",
       "      <td>0.265389</td>\n",
       "      <td>0.003311</td>\n",
       "      <td>0.005703</td>\n",
       "    </tr>\n",
       "    <tr>\n",
       "      <th>1731</th>\n",
       "      <td>0.333333</td>\n",
       "      <td>0.000391</td>\n",
       "      <td>0.000035</td>\n",
       "      <td>0.026388</td>\n",
       "      <td>0.000596</td>\n",
       "      <td>0.027347</td>\n",
       "      <td>0.000000</td>\n",
       "      <td>0.000044</td>\n",
       "      <td>1.0</td>\n",
       "      <td>0.25</td>\n",
       "      <td>0.265172</td>\n",
       "      <td>0.003311</td>\n",
       "      <td>0.001629</td>\n",
       "    </tr>\n",
       "    <tr>\n",
       "      <th>1100</th>\n",
       "      <td>0.333333</td>\n",
       "      <td>0.000306</td>\n",
       "      <td>0.000054</td>\n",
       "      <td>0.000041</td>\n",
       "      <td>0.000183</td>\n",
       "      <td>0.030386</td>\n",
       "      <td>0.000051</td>\n",
       "      <td>0.000007</td>\n",
       "      <td>1.0</td>\n",
       "      <td>0.25</td>\n",
       "      <td>0.265172</td>\n",
       "      <td>0.003311</td>\n",
       "      <td>0.000638</td>\n",
       "    </tr>\n",
       "    <tr>\n",
       "      <th>...</th>\n",
       "      <td>...</td>\n",
       "      <td>...</td>\n",
       "      <td>...</td>\n",
       "      <td>...</td>\n",
       "      <td>...</td>\n",
       "      <td>...</td>\n",
       "      <td>...</td>\n",
       "      <td>...</td>\n",
       "      <td>...</td>\n",
       "      <td>...</td>\n",
       "      <td>...</td>\n",
       "      <td>...</td>\n",
       "      <td>...</td>\n",
       "    </tr>\n",
       "    <tr>\n",
       "      <th>2443</th>\n",
       "      <td>1.000000</td>\n",
       "      <td>0.988916</td>\n",
       "      <td>0.054103</td>\n",
       "      <td>0.116169</td>\n",
       "      <td>0.500759</td>\n",
       "      <td>0.252507</td>\n",
       "      <td>0.000044</td>\n",
       "      <td>0.000045</td>\n",
       "      <td>1.0</td>\n",
       "      <td>0.75</td>\n",
       "      <td>0.265172</td>\n",
       "      <td>0.003311</td>\n",
       "      <td>0.634088</td>\n",
       "    </tr>\n",
       "    <tr>\n",
       "      <th>381</th>\n",
       "      <td>1.000000</td>\n",
       "      <td>0.037919</td>\n",
       "      <td>0.002676</td>\n",
       "      <td>0.000008</td>\n",
       "      <td>0.000033</td>\n",
       "      <td>0.004558</td>\n",
       "      <td>0.000095</td>\n",
       "      <td>0.000044</td>\n",
       "      <td>1.0</td>\n",
       "      <td>0.75</td>\n",
       "      <td>0.265172</td>\n",
       "      <td>0.006623</td>\n",
       "      <td>0.026977</td>\n",
       "    </tr>\n",
       "    <tr>\n",
       "      <th>1780</th>\n",
       "      <td>0.333333</td>\n",
       "      <td>0.000437</td>\n",
       "      <td>0.000076</td>\n",
       "      <td>0.046867</td>\n",
       "      <td>0.215582</td>\n",
       "      <td>0.048617</td>\n",
       "      <td>0.000044</td>\n",
       "      <td>0.043192</td>\n",
       "      <td>1.0</td>\n",
       "      <td>0.25</td>\n",
       "      <td>0.265172</td>\n",
       "      <td>0.003311</td>\n",
       "      <td>0.090681</td>\n",
       "    </tr>\n",
       "    <tr>\n",
       "      <th>962</th>\n",
       "      <td>0.333333</td>\n",
       "      <td>0.007549</td>\n",
       "      <td>0.000572</td>\n",
       "      <td>0.000059</td>\n",
       "      <td>0.000235</td>\n",
       "      <td>0.044060</td>\n",
       "      <td>0.000859</td>\n",
       "      <td>0.000044</td>\n",
       "      <td>1.0</td>\n",
       "      <td>0.50</td>\n",
       "      <td>0.265172</td>\n",
       "      <td>0.001656</td>\n",
       "      <td>0.003995</td>\n",
       "    </tr>\n",
       "    <tr>\n",
       "      <th>1939</th>\n",
       "      <td>1.000000</td>\n",
       "      <td>0.990634</td>\n",
       "      <td>0.054398</td>\n",
       "      <td>0.264988</td>\n",
       "      <td>0.373173</td>\n",
       "      <td>0.532969</td>\n",
       "      <td>0.000088</td>\n",
       "      <td>0.000045</td>\n",
       "      <td>0.0</td>\n",
       "      <td>0.75</td>\n",
       "      <td>0.265172</td>\n",
       "      <td>0.000000</td>\n",
       "      <td>0.645249</td>\n",
       "    </tr>\n",
       "  </tbody>\n",
       "</table>\n",
       "<p>586 rows × 13 columns</p>\n",
       "</div>"
      ],
      "text/plain": [
       "      Port Number  Received Packets  Received Bytes  Sent Bytes  Sent Packets  \\\n",
       "2390     0.333333          0.004799        0.162585    0.106062      0.005434   \n",
       "196      1.000000          0.992862        0.054801    0.450012      0.378980   \n",
       "2307     0.666667          0.007368        0.023744    0.026935      0.006087   \n",
       "1731     0.333333          0.000391        0.000035    0.026388      0.000596   \n",
       "1100     0.333333          0.000306        0.000054    0.000041      0.000183   \n",
       "...           ...               ...             ...         ...           ...   \n",
       "2443     1.000000          0.988916        0.054103    0.116169      0.500759   \n",
       "381      1.000000          0.037919        0.002676    0.000008      0.000033   \n",
       "1780     0.333333          0.000437        0.000076    0.046867      0.215582   \n",
       "962      0.333333          0.007549        0.000572    0.000059      0.000235   \n",
       "1939     1.000000          0.990634        0.054398    0.264988      0.373173   \n",
       "\n",
       "      Port alive Duration (S)  Delta Received Bytes  Delta Sent Bytes  \\\n",
       "2390                 0.341841              0.000000          0.000045   \n",
       "196                  0.900638              0.000088          0.000045   \n",
       "2307                 0.050137              0.000919          0.000876   \n",
       "1731                 0.027347              0.000000          0.000044   \n",
       "1100                 0.030386              0.000051          0.000007   \n",
       "...                       ...                   ...               ...   \n",
       "2443                 0.252507              0.000044          0.000045   \n",
       "381                  0.004558              0.000095          0.000044   \n",
       "1780                 0.048617              0.000044          0.043192   \n",
       "962                  0.044060              0.000859          0.000044   \n",
       "1939                 0.532969              0.000088          0.000045   \n",
       "\n",
       "      Delta Port alive Duration (S)  Connection Point  Total Load/Rate  \\\n",
       "2390                            1.0              0.25         0.265172   \n",
       "196                             1.0              0.75         0.265172   \n",
       "2307                            0.0              0.50         0.265389   \n",
       "1731                            1.0              0.25         0.265172   \n",
       "1100                            1.0              0.25         0.265172   \n",
       "...                             ...               ...              ...   \n",
       "2443                            1.0              0.75         0.265172   \n",
       "381                             1.0              0.75         0.265172   \n",
       "1780                            1.0              0.25         0.265172   \n",
       "962                             1.0              0.50         0.265172   \n",
       "1939                            0.0              0.75         0.265172   \n",
       "\n",
       "      Active Flow Entries  Packets Matched  \n",
       "2390             0.004967         0.009762  \n",
       "196              0.000000         0.660033  \n",
       "2307             0.003311         0.005703  \n",
       "1731             0.003311         0.001629  \n",
       "1100             0.003311         0.000638  \n",
       "...                   ...              ...  \n",
       "2443             0.003311         0.634088  \n",
       "381              0.006623         0.026977  \n",
       "1780             0.003311         0.090681  \n",
       "962              0.001656         0.003995  \n",
       "1939             0.000000         0.645249  \n",
       "\n",
       "[586 rows x 13 columns]"
      ]
     },
     "execution_count": 17,
     "metadata": {},
     "output_type": "execute_result"
    }
   ],
   "source": [
    "X_test"
   ]
  },
  {
   "cell_type": "markdown",
   "metadata": {},
   "source": [
    "Classification Metrics\n"
   ]
  },
  {
   "cell_type": "code",
   "execution_count": 18,
   "metadata": {},
   "outputs": [
    {
     "name": "stdout",
     "output_type": "stream",
     "text": [
      "              precision    recall  f1-score   support\n",
      "\n",
      "           0       0.98      1.00      0.99       144\n",
      "           1       0.80      0.50      0.62       117\n",
      "           2       0.52      0.96      0.68       113\n",
      "           3       0.97      0.45      0.62       139\n",
      "           4       0.56      0.71      0.63        73\n",
      "\n",
      "    accuracy                           0.73       586\n",
      "   macro avg       0.77      0.73      0.71       586\n",
      "weighted avg       0.80      0.73      0.72       586\n",
      "\n"
     ]
    }
   ],
   "source": [
    "classifi_report = classification_report(y_test, y_pred_nb)\n",
    "print(classifi_report)"
   ]
  },
  {
   "cell_type": "markdown",
   "metadata": {},
   "source": [
    "Confusion Matrix\n"
   ]
  },
  {
   "cell_type": "code",
   "execution_count": 19,
   "metadata": {},
   "outputs": [
    {
     "data": {
      "image/png": "[encoded data removed]",
      "text/plain": [
       "<Figure size 640x480 with 2 Axes>"
      ]
     },
     "metadata": {},
     "output_type": "display_data"
    }
   ],
   "source": [
    "display_confus_matrix(y_test, y_pred_nb)"
   ]
  },
  {
   "cell_type": "markdown",
   "metadata": {},
   "source": [
    "Evaluating accuracy\n"
   ]
  },
  {
   "cell_type": "code",
   "execution_count": 20,
   "metadata": {},
   "outputs": [
    {
     "name": "stdout",
     "output_type": "stream",
     "text": [
      "Naive Bayes Accuracy: 0.7270\n"
     ]
    }
   ],
   "source": [
    "accuracy_nb = accuracy_score(y_test, y_pred_nb)\n",
    "print(f\"Naive Bayes Accuracy: {accuracy_nb:.4f}\")"
   ]
  },
  {
   "cell_type": "markdown",
   "metadata": {},
   "source": [
    "Save the model"
   ]
  },
  {
   "cell_type": "code",
   "execution_count": 21,
   "metadata": {},
   "outputs": [
    {
     "data": {
      "text/plain": [
       "['../models/m1_naive_bayes.joblib']"
      ]
     },
     "execution_count": 21,
     "metadata": {},
     "output_type": "execute_result"
    }
   ],
   "source": [
    "from joblib import dump\n",
    "dump(nb_classifier, \"../models/m1_naive_bayes.joblib\")"
   ]
  },
  {
   "cell_type": "markdown",
   "metadata": {},
   "source": [
    "Test data for each category with new user input"
   ]
  },
  {
   "cell_type": "code",
   "execution_count": 22,
   "metadata": {},
   "outputs": [],
   "source": [
    "l0_x = [[4, 350188, 14877116, 101354648, 159524, 2910, 278, 280, 5, 4, 0, 6, 667324]]\n",
    "\n",
    "l1_x = [[2, 2326, 12856942, 31777516, 2998, 2497, 560, 560, 5, 2, 0, 4, 7259]]\n",
    "\n",
    "l2_x = [[4, 150, 19774, 6475473, 3054, 166, 556, 6068, 5, 4, 502, 6, 7418]]\n",
    "\n",
    "l3_x = [[2, 209, 20671, 6316631, 274, 96, 3527, 2757949, 5, 2, 183877, 8, 90494]]\n",
    "\n",
    "l4_x = [[2, 1733, 37865130, 38063670, 3187, 2152, 0, 556, 5, 3, 0, 4, 14864]]"
   ]
  },
  {
   "cell_type": "markdown",
   "metadata": {},
   "source": [
    "New input prediction"
   ]
  },
  {
   "cell_type": "code",
   "execution_count": 23,
   "metadata": {},
   "outputs": [
    {
     "name": "stdout",
     "output_type": "stream",
     "text": [
      "Predicted label: 1\n"
     ]
    },
    {
     "name": "stderr",
     "output_type": "stream",
     "text": [
      "/Users/raghav/miniconda3/envs/ids/lib/python3.10/site-packages/sklearn/base.py:493: UserWarning: X does not have valid feature names, but GaussianNB was fitted with feature names\n",
      "  warnings.warn(\n"
     ]
    }
   ],
   "source": [
    "# Importing required libraries\n",
    "import numpy as np\n",
    "from joblib import load\n",
    "from _2_scale_transform import transform_new_input\n",
    "\n",
    "# Load the model\n",
    "model = load(\"../models/m1_naive_bayes.joblib\")\n",
    "\n",
    "# Preprocessing input\n",
    "user_input = np.array(l1_x) # Change values and try changing \"l1_x\"\n",
    "user_input = transform_new_input(user_input)\n",
    "\n",
    "# Prediction\n",
    "predict = model.predict(user_input)\n",
    "\n",
    "# Final Show\n",
    "print(f\"Predicted label: {predict[0]}\")"
   ]
  }
 ],
 "metadata": {
  "kernelspec": {
   "display_name": "mlenv",
   "language": "python",
   "name": "python3"
  },
  "language_info": {
   "codemirror_mode": {
    "name": "ipython",
    "version": 3
   },
   "file_extension": ".py",
   "mimetype": "text/x-python",
   "name": "python",
   "nbconvert_exporter": "python",
   "pygments_lexer": "ipython3",
   "version": "3.10.14"
  }
 },
 "nbformat": 4,
 "nbformat_minor": 2
}
